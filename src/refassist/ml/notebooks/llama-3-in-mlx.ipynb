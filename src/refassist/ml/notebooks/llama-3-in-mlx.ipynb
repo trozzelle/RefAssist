{
 "cells": [
  {
   "cell_type": "code",
   "execution_count": null,
   "id": "initial_id",
   "metadata": {
    "collapsed": true
   },
   "outputs": [],
   "source": [
    "import torch\n",
    "from transformers.models.llama.modeling_llama import LlamaForCausalLM"
   ]
  },
  {
   "metadata": {},
   "cell_type": "code",
   "outputs": [],
   "execution_count": null,
   "source": [
    "\n",
    "\n",
    "class BaselineLlamaForCausalLm(LlamaForCausalLM):\n",
    "\n",
    "    @torch.no_grad()\n",
    "    def forward(self, input_ids: torch.LongTensor, attention_mask: torch.LongTensor) -> torch.Tensor:\n",
    "        out = super().forward(\n",
    "            input_ids=input_ids,\n",
    "            attention_mask=attention_mask,\n",
    "            use_cache=False\n",
    "        )\n",
    "        return out.logits\n",
    "\n",
    "model_id: str = \"meta-llama/Llama-3.1-8B-Instruct\"\n",
    "torch_model = BaselineLlamaForCausalLm.from_pretrained(model_id).eval()\n",
    "\n"
   ],
   "id": "a3618ca68df99fd8"
  },
  {
   "metadata": {},
   "cell_type": "code",
   "outputs": [],
   "execution_count": null,
   "source": [
    "import coremltools as ct\n",
    "import numpy as np\n",
    "\n",
    "\n",
    "batch_size, context_size = 1, 2048\n",
    "input_shape = (batch_size, context_size)\n",
    "\n",
    "example_inputs: tuple[torch.Tensor] = (\n",
    "    torch.zeros(input_shape, dtype=torch.int32),\n",
    "    torch.zeros(input_shape, dtype=torch.int32),\n",
    ")\n",
    "\n",
    "traced_model: torch.jit.ScriptModule = torch.jit.trace(torch_model, example_inputs)"
   ],
   "id": "28886f24b39ab6f0"
  },
  {
   "metadata": {},
   "cell_type": "code",
   "outputs": [],
   "execution_count": null,
   "source": [
    "inputs: list[ct.TensorType] = [\n",
    "    ct.TensorType(shape=input_shape, dtype=np.int32, name=\"inputIds\"),\n",
    "    ct.TensorType(shape=input_shape, dtype=np.int32, name=\"attentionMask\"),\n",
    "]\n",
    "\n",
    "outputs: list[ct.TensorType] = [ct.TensorType(dtype=np.float16, name=\"logits\")]\n",
    "\n",
    "mlmodel: ct.models.MLModel = ct.convert(traced_model, inputs=inputs, outputs=outputs, minimum_deployment_target=ct.target.macOS15, skip_model_load=True)"
   ],
   "id": "cacca0729068167"
  },
  {
   "metadata": {},
   "cell_type": "code",
   "outputs": [],
   "execution_count": null,
   "source": "",
   "id": "f0b6a7521d01eb27"
  }
 ],
 "metadata": {
  "kernelspec": {
   "display_name": "Python 3",
   "language": "python",
   "name": "python3"
  },
  "language_info": {
   "codemirror_mode": {
    "name": "ipython",
    "version": 2
   },
   "file_extension": ".py",
   "mimetype": "text/x-python",
   "name": "python",
   "nbconvert_exporter": "python",
   "pygments_lexer": "ipython2",
   "version": "2.7.6"
  }
 },
 "nbformat": 4,
 "nbformat_minor": 5
}
