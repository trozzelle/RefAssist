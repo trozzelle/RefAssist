{
 "cells": [
  {
   "cell_type": "code",
   "id": "initial_id",
   "metadata": {
    "collapsed": true,
    "ExecuteTime": {
     "end_time": "2025-01-21T05:10:49.757982Z",
     "start_time": "2025-01-21T05:10:46.852192Z"
    }
   },
   "source": [
    "\n",
    "import os\n",
    "from dataclasses import dataclass\n",
    "from pathlib import Path\n",
    "from typing import Optional\n",
    "\n",
    "import torch\n",
    "from dotenv import load_dotenv\n",
    "from duckdb import duckdb, DuckDBPyConnection\n",
    "from duckdb.typing import DuckDBPyType\n",
    "from llama_index.embeddings.huggingface import HuggingFaceEmbedding\n",
    "\n",
    "load_dotenv()\n",
    "\n",
    "hf_token = os.getenv(\"HF_TOKEN\")\n",
    "db_path = '../data/llama.db'\n"
   ],
   "outputs": [
    {
     "name": "stderr",
     "output_type": "stream",
     "text": [
      "/Users/ada.sh/Developments/Projects/TechnicalDocsAssistant/.venv/lib/python3.12/site-packages/tqdm/auto.py:21: TqdmWarning: IProgress not found. Please update jupyter and ipywidgets. See https://ipywidgets.readthedocs.io/en/stable/user_install.html\n",
      "  from .autonotebook import tqdm as notebook_tqdm\n"
     ]
    }
   ],
   "execution_count": 1
  },
  {
   "cell_type": "code",
   "id": "8a5763eafe3749cc",
   "metadata": {
    "ExecuteTime": {
     "end_time": "2025-01-21T05:10:52.696451Z",
     "start_time": "2025-01-21T05:10:52.693311Z"
    }
   },
   "source": [
    "# if Path(db_path).exists():\n",
    "#     os.remove(db_path)\n",
    "\n",
    "ARRAY_TYPE = DuckDBPyType(list[float])\n",
    "EMBEDDING_DIMENSIONS = 4096\n",
    "BATCH_SIZE = 16"
   ],
   "outputs": [],
   "execution_count": 2
  },
  {
   "cell_type": "code",
   "id": "e9e74f2987059803",
   "metadata": {
    "ExecuteTime": {
     "end_time": "2025-01-21T05:10:54.982820Z",
     "start_time": "2025-01-21T05:10:54.977219Z"
    }
   },
   "source": [
    "def open_db(db_path: str = None, in_memory: Optional[bool] = False) -> DuckDBPyConnection:\n",
    "  if db_path is None or in_memory:\n",
    "    return duckdb.connect(':memory:')\n",
    "  return duckdb.connect(db_path)\n",
    "\n",
    "\n",
    "def load_extension(conn: DuckDBPyConnection, extension: str = 'vss') -> DuckDBPyConnection:\n",
    "  try:\n",
    "    conn.install_extension(extension)\n",
    "    conn.load_extension(extension)\n",
    "    conn.execute(\"SET GLOBAL hnsw_enable_experimental_persistence = true;\")\n",
    "  except Exception as e:\n",
    "    print(f\"Error loading extension: {e}\")\n",
    "  return conn\n",
    "\n",
    "\n",
    "def initialize_schema(conn: DuckDBPyConnection) -> None:\n",
    "  # Create documents table\n",
    "  conn.execute(\n",
    "    f\"\"\"\n",
    "        CREATE TABLE IF NOT EXISTS documents (\n",
    "            id INT PRIMARY KEY,\n",
    "            file TEXT,\n",
    "            text TEXT\n",
    "        );\n",
    "    \"\"\"\n",
    "    )\n",
    "\n",
    "  # Create embeddings table\n",
    "  conn.execute(\n",
    "    f\"\"\"\n",
    "        CREATE TABLE IF NOT EXISTS embeddings (\n",
    "            doc_id INT,\n",
    "            embedding {ARRAY_TYPE},\n",
    "            FOREIGN KEY (doc_id) REFERENCES documents(id)\n",
    "        );\n",
    "    \"\"\"\n",
    "    )\n",
    "\n",
    "\n",
    "def setup_embedding_model() -> HuggingFaceEmbedding:\n",
    "  return HuggingFaceEmbedding(\n",
    "    model_name='BAAI/bge-small-en-v1.5',\n",
    "      device='cuda' if torch.cuda.is_available() else 'cpu',\n",
    "      # embedding_dimensions=EMBEDDING_DIMENSIONS,\n",
    "  )\n"
   ],
   "outputs": [],
   "execution_count": 3
  },
  {
   "cell_type": "code",
   "id": "bdcb05006f7ba29c",
   "metadata": {
    "ExecuteTime": {
     "end_time": "2025-01-21T05:10:57.228058Z",
     "start_time": "2025-01-21T05:10:57.192153Z"
    }
   },
   "source": [
    "db = open_db(db_path, in_memory=False)\n",
    "\n",
    "load_extension(db, extension='vss')\n",
    "initialize_schema(db)\n"
   ],
   "outputs": [],
   "execution_count": 4
  },
  {
   "cell_type": "code",
   "id": "64358283cb795fb6",
   "metadata": {
    "ExecuteTime": {
     "end_time": "2025-01-21T05:11:08.330771Z",
     "start_time": "2025-01-21T05:11:08.321964Z"
    }
   },
   "source": [
    "required_extensions = ['.md']\n",
    "\n",
    "\n",
    "# reader = SimpleDirectoryReader('/Users/ada.sh/Developments/Projects/TechnicalDocsAssistant/tests/test_data/textual', required_exts=required_extensions, recursive=True)\n",
    "# documents = reader.load_data()\n",
    "\n",
    "@dataclass\n",
    "class Document:\n",
    "  text: str\n",
    "  metadata: dict = None\n",
    "\n",
    "\n",
    "doc1 = Document(\n",
    "  text=\"\"\"In the Loge, also known as At the Opera, is an 1878 Impressionist painting by the American artist Mary Cassatt. The oil-on-canvas work depicts a bourgeois woman in a box at an opera house looking through her opera glasses, while a man in the background looks at her from a different box. The woman's costume and fan identify her upper-class status. Art historians see the painting as a commentary on the role of gender, looking, and power in the social spaces of the 19th century. The painting is now at the Museum of Fine Arts, Boston, which also holds a preliminary drawing for the work.\n",
    "        \"\"\",\n",
    "  metadata={'file_path': '/Users/ada.sh/Developments/Projects/TechnicalDocsAssistant/tests/test_data/doc_1.md'}\n",
    "  )\n",
    "\n",
    "doc2 = Document(\n",
    "    text=\"\"\"Sunflowers (original title, in French: Tournesols) is the title of two series of still life paintings by the Dutch painter Vincent van Gogh. The first series, executed in Paris in 1887, depicts the flowers lying on the ground, while the second set, made a year later in Arles, shows a bouquet of sunflowers in a vase. In the artist's mind, both sets were linked by the name of his friend Paul Gauguin, who acquired two of the Paris versions. About eight months later, van Gogh hoped to welcome and impress Gauguin again with Sunflowers, now part of the painted Décoration for the Yellow House that he prepared for the guestroom of his home in Arles, where Gauguin was supposed to stay. \"\"\",\n",
    "    metadata={'file_path': '/Users/ada.sh/Developments/Projects/TechnicalDocsAssistant/tests/test_data/doc_2.md'}\n",
    ")\n",
    "\n",
    "doc3 = Document(\n",
    "    text=\"\"\"\n",
    "    On March 30, 1987, Japanese insurance magnate Yasuo Goto paid the equivalent of US$39,921,750 for van Gogh's Still Life: Vase with Fifteen Sunflowers at auction at Christie's London, at the time a record-setting amount for a work of art.[21] The price was over three times the previous record of about $12 million paid for Andrea Mantegna's Adoration of the Magi in 1985. The record was broken a few months later with the purchase of another van Gogh, Irises, by Alan Bond for $53.9 million at Sotheby's, New York on November 11, 1987.[citation needed]\n",
    "\n",
    "While it is uncertain whether Yasuo Goto bought the painting himself or on behalf of his company, the Yasuda Fire and Marine Insurance Company of Japan, the painting currently resides at Seiji Togo Yasuda Memorial Museum of Modern Art in Tokyo. After the purchase, a controversy arose whether this is a genuine van Gogh or an Émile Schuffenecker forgery.[citation needed]\n",
    "Provenances\n",
    "\n",
    "Two Paris versions van Gogh exchanged with Gauguin in December 1887 or January 1888, were both sold to Ambroise Vollard: one in January 1895 and the other in April 1896. The first canvas resided for a short time with Félix Roux, but was reacquired by Vollard and sold to Degas, then from his estate to Rosenberg, then to Hahnloser and bequested to the Kunstmuseum Bern. The second was acquired by the Dutch collector Hoogendijk at the sale of his collection by Kann, who ceded the painting to Richard Bühler and then via Thannhauser to the Metropolitan Museum in New York.[citation needed]\n",
    "\n",
    "Two of van Gogh's Sunflowers paintings never left the artist's estate: the study for one of the Paris versions (F377) and the repetition of fourth version (F458). Both are in the possession of the Vincent van Gogh Foundation, established 1962 by Vincent Willem van Gogh, the artist's nephew, and on permanent loan to the Van Gogh Museum, Amsterdam.[citation needed]\n",
    "\n",
    "Five other versions are recorded in the van Gogh estate papers:[22]\n",
    "\n",
    "    the final Paris version (F.452) in the artist's estate was sold 1909 via C. M. van Gogh, The Hague (J. H. de Bois) to Kröller-Müller\n",
    "    (F457) sold 1894 to Émile Schuffenecker. (Tokyo version).\n",
    "    (F456) sold 1905 via Paul Cassirer to Hugo von Tschudi. (Munich version).\n",
    "    (F459) sold 1908 C. M. van Gogh (J. H. de Bois), The Hague to Fritz Meyer-Fierz, Zürich (destroyed by U.S. air raid in Japan on 6 August 1945).\n",
    "    (F454) sold 1924 via Ernest Brown & Phillips (The Leicester Galleries) to the Tate Gallery; since on permanent loan to the National Gallery, London. (London version).\"\"\",\n",
    "    metadata={\n",
    "        'file_path': '/Users/ada.sh/Developments/Projects/TechnicalDocsAssistant/tests/test_data/doc_3.md'\n",
    "    }\n",
    ")\n",
    "\n",
    "mock_docs = [doc1, doc2, doc3]\n",
    "\n",
    "documents = mock_docs\n",
    "\n",
    "# df: pd.DataFrame = pd.DataFrame(schema={\n",
    "#     'id': int,\n",
    "#     'file': str,\n",
    "#     'text': str,\n",
    "# })\n",
    "# files = glob.glob('/Users/ada.sh/Developments/Projects/TechnicalDocsAssistant/tests/test_data/textual/**/*.md', recursive=True)\n",
    "# for i, file in enumerate(files):\n",
    "#   try:\n",
    "#       with open(file, 'r', encoding=\"utf-8\") as f:\n",
    "#           text = f.read()\n",
    "#           documents.append(text)\n",
    "#           fd = pd.DataFrame({\n",
    "#               'id': i,\n",
    "#               'file': file,\n",
    "#               'text': text\n",
    "#           })\n",
    "#           df.extend(fd)\n",
    "#   except Exception as e:\n",
    "#       print(e)\n"
   ],
   "outputs": [],
   "execution_count": 5
  },
  {
   "metadata": {
    "ExecuteTime": {
     "end_time": "2025-01-21T05:11:09.459896Z",
     "start_time": "2025-01-21T05:11:09.455653Z"
    }
   },
   "cell_type": "code",
   "source": [
    "for i, doc in enumerate(documents):\n",
    "  db.execute(\n",
    "    \"\"\"\n",
    "        INSERT INTO documents (id, file, text) VALUES (?, ?, ?)\n",
    "        \"\"\", [i, doc.metadata.get('file_path', ''), doc.text]\n",
    "    )"
   ],
   "id": "af5dfa48ff6e951d",
   "outputs": [],
   "execution_count": 6
  },
  {
   "metadata": {
    "ExecuteTime": {
     "end_time": "2025-01-21T05:13:01.098719Z",
     "start_time": "2025-01-21T05:13:01.087225Z"
    }
   },
   "cell_type": "code",
   "source": [
    "db.sql(\"\"\"\n",
    "SELECT * FROM documents;\"\"\").show()\n"
   ],
   "id": "50f4527ace183a2d",
   "outputs": [
    {
     "name": "stdout",
     "output_type": "stream",
     "text": [
      "┌───────┬─────────────────────────────────────────────────────────────────────────────────────┬────────────────────────────────────────────────────────────────────────────────────────────────────────────────────────────────────────────────────────────────────────────────────────────────────────────────────────────────────────────────────────────────────────────────────────────────────────────────────────────────────────────────────────────────────────────────────────────────────────────────────────────────────────────────────────────────────────────────────────────────────────────────────────────────────────────────────────────────────────────────────────────────────────────────────────────────────────────────────────────────────────────────────────────────────────────────────────────────────────────────────────────────────────────────────────────────────────────────────────────────────────────────────────────────────────────────────────────────────────────────────────────────────────────────────────────────────────────────────────────────────────────────────────────────────────────────────────────────────────────────────────────────────────────────────────────────────────────────────────────────────────────────────────────────────────────────────────────────────────────────────────────────────────────────────────────────────────────────────────────────────────────────────────────────────────────────────────────────────────────────────────────────────────────────────────────────────────────────────────────────────────────────────────────────────────────────────────────────────────────────────────────────────────────────────────────────────────────────────────────────────────────────────────────────────────────────────────────────────────────────────────────────────────────────────────────────────────────────────────────────────────────────────────────────────────────────────────────────────────────────────────────────────────────────────────────────────────────────────────────────────────────────────────────────────────────────────────────────────────────────────────────────────────────────────────────────────────────────────────────────────────────────────────────────────────────────────────────────────────────────────────────────────────────────────────────────────────────────────────────────────────────────────────────────────────────────────────────────────────────────────────────────────────────────────────────────────────────────────────────────────────────────────────────────────────────────────────────────────────────────────────────────────────────────────────────────────────────────────────────────────────────────────────┐\n",
      "│  id   │                                        file                                         │                                                                                                                                                                                                                                                                                                                                                                                                                                                                                                                                                                                                                                                                                                                                                                                                                                                                                                                                                                                                                                                                                                                                                                                                                                                                                                                                          text                                                                                                                                                                                                                                                                                                                                                                                                                                                                                                                                                                                                                                                                                                                                                                                                                                                                                                                                                                                                                                                                                                                                                                                                                                                                                                                                          │\n",
      "│ int32 │                                       varchar                                       │                                                                                                                                                                                                                                                                                                                                                                                                                                                                                                                                                                                                                                                                                                                                                                                                                                                                                                                                                                                                                                                                                                                                                                                                                                                                                                                                        varchar                                                                                                                                                                                                                                                                                                                                                                                                                                                                                                                                                                                                                                                                                                                                                                                                                                                                                                                                                                                                                                                                                                                                                                                                                                                                                                                                         │\n",
      "├───────┼─────────────────────────────────────────────────────────────────────────────────────┼────────────────────────────────────────────────────────────────────────────────────────────────────────────────────────────────────────────────────────────────────────────────────────────────────────────────────────────────────────────────────────────────────────────────────────────────────────────────────────────────────────────────────────────────────────────────────────────────────────────────────────────────────────────────────────────────────────────────────────────────────────────────────────────────────────────────────────────────────────────────────────────────────────────────────────────────────────────────────────────────────────────────────────────────────────────────────────────────────────────────────────────────────────────────────────────────────────────────────────────────────────────────────────────────────────────────────────────────────────────────────────────────────────────────────────────────────────────────────────────────────────────────────────────────────────────────────────────────────────────────────────────────────────────────────────────────────────────────────────────────────────────────────────────────────────────────────────────────────────────────────────────────────────────────────────────────────────────────────────────────────────────────────────────────────────────────────────────────────────────────────────────────────────────────────────────────────────────────────────────────────────────────────────────────────────────────────────────────────────────────────────────────────────────────────────────────────────────────────────────────────────────────────────────────────────────────────────────────────────────────────────────────────────────────────────────────────────────────────────────────────────────────────────────────────────────────────────────────────────────────────────────────────────────────────────────────────────────────────────────────────────────────────────────────────────────────────────────────────────────────────────────────────────────────────────────────────────────────────────────────────────────────────────────────────────────────────────────────────────────────────────────────────────────────────────────────────────────────────────────────────────────────────────────────────────────────────────────────────────────────────────────────────────────────────────────────────────────────────────────────────────────────────────────────────────────────────────────────────────────────────────────────────────────────────────────────────────────────────────────────────────────────────────┤\n",
      "│     0 │ /Users/ada.sh/Developments/Projects/TechnicalDocsAssistant/tests/test_data/doc_1.md │ In the Loge, also known as At the Opera, is an 1878 Impressionist painting by the American artist Mary Cassatt. The oil-on-canvas work depicts a bourgeois woman in a box at an opera house looking through her opera glasses, while a man in the background looks at her from a different box. The woman's costume and fan identify her upper-class status. Art historians see the painting as a commentary on the role of gender, looking, and power in the social spaces of the 19th century. The painting is now at the Museum of Fine Arts, Boston, which also holds a preliminary drawing for the work.\\n                                                                                                                                                                                                                                                                                                                                                                                                                                                                                                                                                                                                                                                                                                                                                                                                                                                                                                                                                                                                                                                                                                                                                                                                                                                                                                                                                                                                                                                                                                                                                                                                                                                                                                                                                                                                                                                                                                                                                                                                                                                                        │\n",
      "│     1 │ /Users/ada.sh/Developments/Projects/TechnicalDocsAssistant/tests/test_data/doc_2.md │ Sunflowers (original title, in French: Tournesols) is the title of two series of still life paintings by the Dutch painter Vincent van Gogh. The first series, executed in Paris in 1887, depicts the flowers lying on the ground, while the second set, made a year later in Arles, shows a bouquet of sunflowers in a vase. In the artist's mind, both sets were linked by the name of his friend Paul Gauguin, who acquired two of the Paris versions. About eight months later, van Gogh hoped to welcome and impress Gauguin again with Sunflowers, now part of the painted Décoration for the Yellow House that he prepared for the guestroom of his home in Arles, where Gauguin was supposed to stay.                                                                                                                                                                                                                                                                                                                                                                                                                                                                                                                                                                                                                                                                                                                                                                                                                                                                                                                                                                                                                                                                                                                                                                                                                                                                                                                                                                                                                                                                                                                                                                                                                                                                                                                                                                                                                                                                                                                                                                          │\n",
      "│     2 │ /Users/ada.sh/Developments/Projects/TechnicalDocsAssistant/tests/test_data/doc_3.md │ \\n    On March 30, 1987, Japanese insurance magnate Yasuo Goto paid the equivalent of US$39,921,750 for van Gogh's Still Life: Vase with Fifteen Sunflowers at auction at Christie's London, at the time a record-setting amount for a work of art.[21] The price was over three times the previous record of about $12 million paid for Andrea Mantegna's Adoration of the Magi in 1985. The record was broken a few months later with the purchase of another van Gogh, Irises, by Alan Bond for $53.9 million at Sotheby's, New York on November 11, 1987.[citation needed]\\n\\nWhile it is uncertain whether Yasuo Goto bought the painting himself or on behalf of his company, the Yasuda Fire and Marine Insurance Company of Japan, the painting currently resides at Seiji Togo Yasuda Memorial Museum of Modern Art in Tokyo. After the purchase, a controversy arose whether this is a genuine van Gogh or an Émile Schuffenecker forgery.[citation needed]\\nProvenances\\n\\nTwo Paris versions van Gogh exchanged with Gauguin in December 1887 or January 1888, were both sold to Ambroise Vollard: one in January 1895 and the other in April 1896. The first canvas resided for a short time with Félix Roux, but was reacquired by Vollard and sold to Degas, then from his estate to Rosenberg, then to Hahnloser and bequested to the Kunstmuseum Bern. The second was acquired by the Dutch collector Hoogendijk at the sale of his collection by Kann, who ceded the painting to Richard Bühler and then via Thannhauser to the Metropolitan Museum in New York.[citation needed]\\n\\nTwo of van Gogh's Sunflowers paintings never left the artist's estate: the study for one of the Paris versions (F377) and the repetition of fourth version (F458). Both are in the possession of the Vincent van Gogh Foundation, established 1962 by Vincent Willem van Gogh, the artist's nephew, and on permanent loan to the Van Gogh Museum, Amsterdam.[citation needed]\\n\\nFive other versions are recorded in the van Gogh estate papers:[22]\\n\\n    the final Paris version (F.452) in the artist's estate was sold 1909 via C. M. van Gogh, The Hague (J. H. de Bois) to Kröller-Müller\\n    (F457) sold 1894 to Émile Schuffenecker. (Tokyo version).\\n    (F456) sold 1905 via Paul Cassirer to Hugo von Tschudi. (Munich version).\\n    (F459) sold 1908 C. M. van Gogh (J. H. de Bois), The Hague to Fritz Meyer-Fierz, Zürich (destroyed by U.S. air raid in Japan on 6 August 1945).\\n    (F454) sold 1924 via Ernest Brown & Phillips (The Leicester Galleries) to the Tate Gallery; since on permanent loan to the National Gallery, London. (London version). │\n",
      "└───────┴─────────────────────────────────────────────────────────────────────────────────────┴────────────────────────────────────────────────────────────────────────────────────────────────────────────────────────────────────────────────────────────────────────────────────────────────────────────────────────────────────────────────────────────────────────────────────────────────────────────────────────────────────────────────────────────────────────────────────────────────────────────────────────────────────────────────────────────────────────────────────────────────────────────────────────────────────────────────────────────────────────────────────────────────────────────────────────────────────────────────────────────────────────────────────────────────────────────────────────────────────────────────────────────────────────────────────────────────────────────────────────────────────────────────────────────────────────────────────────────────────────────────────────────────────────────────────────────────────────────────────────────────────────────────────────────────────────────────────────────────────────────────────────────────────────────────────────────────────────────────────────────────────────────────────────────────────────────────────────────────────────────────────────────────────────────────────────────────────────────────────────────────────────────────────────────────────────────────────────────────────────────────────────────────────────────────────────────────────────────────────────────────────────────────────────────────────────────────────────────────────────────────────────────────────────────────────────────────────────────────────────────────────────────────────────────────────────────────────────────────────────────────────────────────────────────────────────────────────────────────────────────────────────────────────────────────────────────────────────────────────────────────────────────────────────────────────────────────────────────────────────────────────────────────────────────────────────────────────────────────────────────────────────────────────────────────────────────────────────────────────────────────────────────────────────────────────────────────────────────────────────────────────────────────────────────────────────────────────────────────────────────────────────────────────────────────────────────────────────────────────────────────────────────────────────────────────────────────────────────────────────────────────────────────────────────────────────────────────────────────────────────────────────────────────────────────────────────────────────────────────────────────────────────────────────┘\n",
      "\n"
     ]
    }
   ],
   "execution_count": 8
  },
  {
   "metadata": {
    "ExecuteTime": {
     "end_time": "2025-01-21T05:14:07.354214Z",
     "start_time": "2025-01-21T05:14:06.240487Z"
    }
   },
   "cell_type": "code",
   "source": "embed_model = setup_embedding_model()",
   "id": "c87fe76d238019dc",
   "outputs": [],
   "execution_count": 9
  },
  {
   "metadata": {
    "ExecuteTime": {
     "end_time": "2025-01-21T05:15:10.713953Z",
     "start_time": "2025-01-21T05:15:10.058252Z"
    }
   },
   "cell_type": "code",
   "source": [
    "for doc in db.execute(\"SELECT id, text FROM documents; \").fetchall():\n",
    "    doc_id, text = doc\n",
    "    embedding = embed_model.get_text_embedding(text)\n",
    "\n",
    "    db.execute(\"\"\"\n",
    "    INSERT INTO embeddings (doc_id, embedding) VALUES (?, ?)\"\"\", [doc_id, embedding])"
   ],
   "id": "6eed8bdc2538b316",
   "outputs": [],
   "execution_count": 11
  },
  {
   "metadata": {},
   "cell_type": "code",
   "outputs": [],
   "execution_count": null,
   "source": "db.execute(\"\"\"\"\"\")",
   "id": "3faa708aac24bd14"
  },
  {
   "metadata": {},
   "cell_type": "code",
   "outputs": [],
   "execution_count": null,
   "source": "",
   "id": "2629cad6438b6100"
  }
 ],
 "metadata": {
  "kernelspec": {
   "display_name": "Python 3",
   "language": "python",
   "name": "python3"
  },
  "language_info": {
   "codemirror_mode": {
    "name": "ipython",
    "version": 2
   },
   "file_extension": ".py",
   "mimetype": "text/x-python",
   "name": "python",
   "nbconvert_exporter": "python",
   "pygments_lexer": "ipython2",
   "version": "2.7.6"
  }
 },
 "nbformat": 4,
 "nbformat_minor": 5
}
